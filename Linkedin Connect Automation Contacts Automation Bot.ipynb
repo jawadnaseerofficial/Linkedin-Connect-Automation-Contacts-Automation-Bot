{
 "cells": [
  {
   "cell_type": "code",
   "execution_count": 7,
   "metadata": {},
   "outputs": [],
   "source": [
    "from selenium import webdriver\n",
    "import time "
   ]
  },
  {
   "cell_type": "code",
   "execution_count": 8,
   "metadata": {},
   "outputs": [],
   "source": [
    "driver = webdriver.Chrome()\n",
    "driver.get('https://www.linkedin.com/login?fromSignIn=true&trk=guest_homepage-basic_nav-header-signin')\n",
    "time.sleep(2)"
   ]
  },
  {
   "cell_type": "code",
   "execution_count": 9,
   "metadata": {},
   "outputs": [],
   "source": [
    "from selenium.webdriver.common.by import By"
   ]
  },
  {
   "cell_type": "code",
   "execution_count": 15,
   "metadata": {},
   "outputs": [],
   "source": [
    "password = driver.find_element(By.XPATH, '//*[@id=\"password\"]')\n",
    "username_field = driver.find_element(By.NAME, 'session_key')\n"
   ]
  },
  {
   "cell_type": "code",
   "execution_count": 16,
   "metadata": {},
   "outputs": [],
   "source": [
    "username_field.send_keys('enter your email')\n",
    "password.send_keys('enter your password')\n",
    "time.sleep(5)"
   ]
  },
  {
   "cell_type": "code",
   "execution_count": 17,
   "metadata": {},
   "outputs": [],
   "source": [
    "submit = driver.find_element(By.XPATH, \"//button[@type='submit']\")\n",
    "submit.click()"
   ]
  },
  {
   "cell_type": "code",
   "execution_count": 13,
   "metadata": {},
   "outputs": [],
   "source": [
    "driver.get('https://www.linkedin.com/search/results/people/?keywords=software%20engineer&origin=SWITCH_SEARCH_VERTICAL&sid=5ao')\n",
    "time.sleep(5)"
   ]
  },
  {
   "cell_type": "code",
   "execution_count": 18,
   "metadata": {},
   "outputs": [],
   "source": [
    "from selenium.webdriver.common.by import By\n",
    "\n",
    "all_buttons = driver.find_elements(By.TAG_NAME, \"button\")\n",
    "connect_buttons = [btn for btn in all_buttons if btn.text == \"Connect\"]"
   ]
  },
  {
   "cell_type": "code",
   "execution_count": 81,
   "metadata": {},
   "outputs": [],
   "source": [
    "from selenium.webdriver.common.by import By\n"
   ]
  },
  {
   "cell_type": "code",
   "execution_count": null,
   "metadata": {},
   "outputs": [],
   "source": [
    "#my first code before changes for pagination, working excellent.\n",
    "\n",
    "'''\n",
    "\n",
    "from selenium.webdriver.common.by import By\n",
    "from selenium.webdriver.support.ui import WebDriverWait\n",
    "from selenium.webdriver.support import expected_conditions as EC\n",
    "\n",
    "wait = WebDriverWait(driver, 10)\n",
    "\n",
    "for btn in connect_buttons:\n",
    "    driver.execute_script(\"arguments[0].click();\", btn)\n",
    "\n",
    "    try:\n",
    "        send = wait.until(EC.element_to_be_clickable((By.XPATH, \"//button[contains(@aria-label, 'Send')]\")))\n",
    "        driver.execute_script(\"arguments[0].click();\", send)\n",
    "\n",
    "        close = wait.until(EC.element_to_be_clickable((By.XPATH, \"//button[contains(@aria-label, 'Dismiss')]\")))\n",
    "        driver.execute_script(\"arguments[0].click();\", close)\n",
    "\n",
    "    except Exception as e:\n",
    "        print(\"Could not complete Connect-Send-Close cycle:\", e)\n",
    "\n",
    "    time.sleep(3)\n",
    "\n",
    "'''"
   ]
  },
  {
   "cell_type": "code",
   "execution_count": null,
   "metadata": {},
   "outputs": [],
   "source": [
    "#my code with pagination but infinate\n",
    "\n",
    "'''\n",
    "\n",
    "from selenium.webdriver.common.by import By\n",
    "from selenium.webdriver.support.ui import WebDriverWait\n",
    "from selenium.webdriver.support import expected_conditions as EC\n",
    "import time\n",
    "\n",
    "wait = WebDriverWait(driver, 10)\n",
    "\n",
    "while True:\n",
    "    # finding all connections.\n",
    "    all_buttons = driver.find_elements(By.TAG_NAME, \"button\")\n",
    "    connect_buttons = [btn for btn in all_buttons if btn.text.strip() == \"Connect\"]\n",
    "\n",
    "    print(f\"Found {len(connect_buttons)} connect buttons on this page.\")\n",
    "\n",
    "    # after find, clicking and making connections.\n",
    "    for btn in connect_buttons:\n",
    "        try:\n",
    "            driver.execute_script(\"arguments[0].click();\", btn)\n",
    "\n",
    "            send = wait.until(EC.element_to_be_clickable((By.XPATH, \"//button[contains(@aria-label, 'Send')]\")))\n",
    "            driver.execute_script(\"arguments[0].click();\", send)\n",
    "\n",
    "            close = wait.until(EC.element_to_be_clickable((By.XPATH, \"//button[contains(@aria-label, 'Dismiss')]\")))\n",
    "            driver.execute_script(\"arguments[0].click();\", close)\n",
    "\n",
    "            time.sleep(2)\n",
    "        except Exception as e:\n",
    "            print(\"Error during connect-send-dismiss:\", e)\n",
    "            continue\n",
    "\n",
    "    # going to the next page if found after complete all connects. \n",
    "    try:\n",
    "        next_button = wait.until(EC.element_to_be_clickable((By.XPATH, \"//button[@aria-label='Next']\")))\n",
    "        driver.execute_script(\"arguments[0].click();\", next_button)\n",
    "        print(\"Clicked Next. Moving to next page...\")\n",
    "        time.sleep(5)  \n",
    "    except:\n",
    "        print(\"No more pages or can't find 'Next' button.\")\n",
    "        break\n",
    "        \n",
    "\n",
    "'''"
   ]
  },
  {
   "cell_type": "code",
   "execution_count": 24,
   "metadata": {},
   "outputs": [
    {
     "name": "stdout",
     "output_type": "stream",
     "text": [
      "[Page 1] Found 0 connect buttons.\n",
      "Clicked Next. Moving to page 2...\n",
      "[Page 2] Found 0 connect buttons.\n",
      "Clicked Next. Moving to page 3...\n",
      "No more pages or can't find 'Next' button.\n",
      "Stopped after 2 page(s).\n"
     ]
    }
   ],
   "source": [
    "#pagination and pages limit\n",
    "\n",
    "from selenium.webdriver.common.by import By\n",
    "from selenium.webdriver.support.ui import WebDriverWait\n",
    "from selenium.webdriver.support import expected_conditions as EC\n",
    "import time\n",
    "\n",
    "wait = WebDriverWait(driver, 10) #i am adding 10 here for 10 pagination limit, if i want to use more i would write the higher number according to requirement.\n",
    "page_count = 0  \n",
    "\n",
    "while page_count < 10:\n",
    "    # finding all connect buttons\n",
    "    all_buttons = driver.find_elements(By.TAG_NAME, \"button\")\n",
    "    connect_buttons = [btn for btn in all_buttons if btn.text.strip() == \"Connect\"]\n",
    "\n",
    "    print(f\"[Page {page_count + 1}] Found {len(connect_buttons)} connect buttons.\")\n",
    "\n",
    "    #  clicking and sending connect requests\n",
    "    for btn in connect_buttons:\n",
    "        try:\n",
    "            driver.execute_script(\"arguments[0].click();\", btn)\n",
    "\n",
    "            send = wait.until(EC.element_to_be_clickable((By.XPATH, \"//button[contains(@aria-label, 'Send')]\")))\n",
    "            driver.execute_script(\"arguments[0].click();\", send)\n",
    "\n",
    "            close = wait.until(EC.element_to_be_clickable((By.XPATH, \"//button[contains(@aria-label, 'Dismiss')]\")))\n",
    "            driver.execute_script(\"arguments[0].click();\", close)\n",
    "\n",
    "            time.sleep(2)\n",
    "        except Exception as e:\n",
    "            print(\"Error during connect-send-dismiss:\", e)\n",
    "            continue\n",
    "\n",
    "    #  Going to the next page if available\n",
    "    try:\n",
    "        next_button = wait.until(EC.element_to_be_clickable((By.XPATH, \"//button[@aria-label='Next']\")))\n",
    "        driver.execute_script(\"arguments[0].click();\", next_button)\n",
    "        page_count += 1\n",
    "        print(f\"Clicked Next. Moving to page {page_count + 1}...\")\n",
    "        time.sleep(5)  # waiting for new page to load, i can change number of seconds if connection is slow\n",
    "    except:\n",
    "        print(\"No more pages or can't find 'Next' button.\")\n",
    "        break\n",
    "\n",
    "print(f\"Stopped after {page_count} page(s).\")"
   ]
  },
  {
   "cell_type": "code",
   "execution_count": null,
   "metadata": {},
   "outputs": [],
   "source": [
    "# i made this code logic for infinate scroll down and connect and pagination, if required.\n",
    "\n",
    "'''\n",
    "\n",
    "last_height = driver.execute_script(\"return document.body.scrollHeight\")\n",
    "\n",
    "while True:\n",
    "    # this is for click all connect buttons on current load\n",
    "    all_buttons = driver.find_elements(By.TAG_NAME, \"button\")\n",
    "    connect_buttons = [btn for btn in all_buttons if btn.text.strip() == \"Connect\"]\n",
    "\n",
    "    for btn in connect_buttons:\n",
    "        try:\n",
    "            driver.execute_script(\"arguments[0].click();\", btn)\n",
    "\n",
    "            send = WebDriverWait(driver, 5).until(EC.element_to_be_clickable((By.XPATH, \"//button[contains(@aria-label, 'Send')]\")))\n",
    "            driver.execute_script(\"arguments[0].click();\", send)\n",
    "\n",
    "            close = WebDriverWait(driver, 5).until(EC.element_to_be_clickable((By.XPATH, \"//button[contains(@aria-label, 'Dismiss')]\")))\n",
    "            driver.execute_script(\"arguments[0].click();\", close)\n",
    "\n",
    "            time.sleep(2)\n",
    "        except Exception as e:\n",
    "            print(\"Skipped one due to error:\", e)\n",
    "            continue\n",
    "\n",
    "    # this is for scroll down to load more\n",
    "    driver.execute_script(\"window.scrollTo(0, document.body.scrollHeight);\")\n",
    "    time.sleep(4)  # Wait for content to load\n",
    "\n",
    "    new_height = driver.execute_script(\"return document.body.scrollHeight\")\n",
    "    if new_height == last_height:\n",
    "        print(\"No more users to load.\")\n",
    "        break\n",
    "    last_height = new_height\n",
    "\n",
    "'''"
   ]
  },
  {
   "cell_type": "code",
   "execution_count": null,
   "metadata": {},
   "outputs": [],
   "source": []
  }
 ],
 "metadata": {
  "kernelspec": {
   "display_name": "Python 3",
   "language": "python",
   "name": "python3"
  },
  "language_info": {
   "codemirror_mode": {
    "name": "ipython",
    "version": 3
   },
   "file_extension": ".py",
   "mimetype": "text/x-python",
   "name": "python",
   "nbconvert_exporter": "python",
   "pygments_lexer": "ipython3",
   "version": "3.13.5"
  }
 },
 "nbformat": 4,
 "nbformat_minor": 2
}
